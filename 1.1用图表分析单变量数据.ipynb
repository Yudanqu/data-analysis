{
 "cells": [
  {
   "cell_type": "markdown",
   "metadata": {},
   "source": [
    "单变量:表达式、方程式、函数或者一元多项式等"
   ]
  },
  {
   "cell_type": "markdown",
   "metadata": {},
   "source": [
    "网址：http://www.presidency.ucsb.edu/data/sourequests.php  \n",
    "美国总统历年在国情咨文中对国会提起的诉求数量"
   ]
  },
  {
   "cell_type": "markdown",
   "metadata": {},
   "source": [
    "## 获取数据"
   ]
  },
  {
   "cell_type": "code",
   "execution_count": 1,
   "metadata": {},
   "outputs": [
    {
     "name": "stdout",
     "output_type": "stream",
     "text": [
      "<class 'str'>\n",
      "[41, 1947, 1948, 28, 1950, 1951, 1952, 1953, 1954, 1955, 1956, 1957, 1958, 1959, 1960, 1961, 1962, 1963, 1964, 1965, 1966, 1967, 1968, 1969, 1970, 1971, 1972, 1973, 1974, 1975, 1976, 1977, 1978, 1979, 1980, 1981, 1982, 1983, 1984, 1985, 1986, 1987, 1988, 1989, 1990, 1991, 1992, 1993, 1994, 1995, 1996, 1997] [16, 23, 16, 17, 20, 11, 19, 14, 39, 32, 0, 14, 0, 16, 6, 25, 24, 18, 17, 38, 31, 27, 26, 17, 21, 20, 17, 23, 16, 13, 13, 21, 11, 13, 11, 8, 8, 14, 9, 7, 5, 5, 54, 34, 18, 20, 27, 30, 22, 25, 19, 26]\n"
     ]
    }
   ],
   "source": [
    "import urllib.request\n",
    "import re\n",
    "\n",
    "\n",
    "def crawler(url):\n",
    "    headers = {\n",
    "        \"User-Agent\": \"Mozilla/5.0 (X11; U; Linux x86_64; zh-CN; rv:1.9.2.10) Gecko/20100922 Ubuntu/10.10 (maverick) Firefox/3.6.10\"\n",
    "    }\n",
    "    req = urllib.request.Request(url, headers=headers)\n",
    "    response = urllib.request.urlopen(req)\n",
    "    \n",
    "    html = response.read().decode('utf-8')\n",
    "    print(type(html))\n",
    "    \n",
    "    pat = r'<tr align=\"center\">(.*?)</tr>'\n",
    "    re_html = re.compile(pat, re.S) # re.S可以使匹配换行\n",
    "    trslist = re_html.findall(html) # 匹配出每条信息的数据\n",
    "    \n",
    "    x = []\n",
    "    y = []\n",
    "    for tr in trslist:\n",
    "        re_i = re.compile(r'<div align=\"center\">(.*?)</div>', re.S)\n",
    "        i = re_i.findall(tr)\n",
    "        x.append(int(i[1].strip())) # 从每条数据中取出所需要的两个数据年份和诉求数量\n",
    "        y.append(int(i[2].strip()) if i[2] != '' else 0) # 当匹配到空字符串时就是数据缺失部分，用0代替\n",
    "    print(x,y) # 查看结果发现第一组和第四组数据有误，看源码发现他们两个的分类名不是使用的center标签，为了简便，手动添加这两个数据\n",
    "    x[0] = 1946\n",
    "    y[0] = 41\n",
    "    x[3] = 1949\n",
    "    y[3] = 28\n",
    "    return x, y\n",
    "    \n",
    "url = \"http://www.presidency.ucsb.edu/data/sourequests.php\"\n",
    "x, y = crawler(url)"
   ]
  },
  {
   "cell_type": "markdown",
   "metadata": {},
   "source": [
    "## 绘制图形观察趋势"
   ]
  },
  {
   "cell_type": "code",
   "execution_count": 2,
   "metadata": {},
   "outputs": [],
   "source": [
    "import numpy as np\n",
    "import matplotlib.pyplot as plt\n",
    "from matplotlib.pylab import frange"
   ]
  },
  {
   "cell_type": "code",
   "execution_count": 3,
   "metadata": {},
   "outputs": [
    {
     "data": {
      "text/plain": [
       "Text(0,0.5,'No Presedential Request')"
      ]
     },
     "execution_count": 3,
     "metadata": {},
     "output_type": "execute_result"
    },
    {
     "data": {
      "image/png": "[encoded data removed]",
      "text/plain": [
       "<Figure size 432x288 with 1 Axes>"
      ]
     },
     "metadata": {},
     "output_type": "display_data"
    }
   ],
   "source": [
    "plt.figure(1)\n",
    "plt.title(\"All data\")\n",
    "plt.plot(x, y, 'ro')\n",
    "plt.xlabel('year')\n",
    "plt.ylabel('No Presedential Request')"
   ]
  },
  {
   "cell_type": "markdown",
   "metadata": {},
   "source": [
    "## 计算出百分位数，并绘制在图中"
   ]
  },
  {
   "cell_type": "code",
   "execution_count": 4,
   "metadata": {},
   "outputs": [
    {
     "name": "stdout",
     "output_type": "stream",
     "text": [
      "25th Percentile = 13.00\n",
      "50th Percentile = 18.50\n",
      "75th Percentile = 25.25\n"
     ]
    }
   ],
   "source": [
    "perc_25 = np.percentile(y, 25)\n",
    "perc_50 = np.percentile(y, 50)\n",
    "perc_75 = np.percentile(y, 75)\n",
    "print(\"25th Percentile = %.2f\" % perc_25)\n",
    "print(\"50th Percentile = %.2f\" % perc_50)\n",
    "print(\"75th Percentile = %.2f\" % perc_75)"
   ]
  },
  {
   "cell_type": "code",
   "execution_count": 5,
   "metadata": {},
   "outputs": [
    {
     "data": {
      "text/plain": [
       "<matplotlib.legend.Legend at 0xabadbcac>"
      ]
     },
     "execution_count": 5,
     "metadata": {},
     "output_type": "execute_result"
    },
    {
     "data": {
      "image/png": "[encoded data removed]",
      "text/plain": [
       "<Figure size 432x288 with 1 Axes>"
      ]
     },
     "metadata": {},
     "output_type": "display_data"
    }
   ],
   "source": [
    "# 在图中画出第25、50、75位的百分位水平线\n",
    "# ----------------------------------------\n",
    "plt.figure(1)\n",
    "plt.title(\"All data\")\n",
    "plt.plot(x, y, 'ro')\n",
    "plt.xlabel('year')\n",
    "plt.ylabel('No Presedential Request')\n",
    "# ----------------------------------------\n",
    "plt.axhline(perc_25, label='25th perc', c='r')\n",
    "plt.axhline(perc_50, label='50th perc', c='g')\n",
    "plt.axhline(perc_75, label='75th perc', c='m')\n",
    "plt.legend(loc='best')"
   ]
  },
  {
   "cell_type": "markdown",
   "metadata": {},
   "source": [
    "## 检查异常点"
   ]
  },
  {
   "cell_type": "code",
   "execution_count": 6,
   "metadata": {},
   "outputs": [
    {
     "name": "stdout",
     "output_type": "stream",
     "text": [
      "<class 'numpy.ndarray'> <class 'numpy.ma.core.MaskedArray'>\n"
     ]
    }
   ],
   "source": [
    "# 检查生成的图形中是否有异常点，若有，使用mask函数将其删除\n",
    "# 0是在起初获取数据时候的缺失值的填充，根据图像看到y=54的点远远高出其他，也按异常值处理\n",
    "y = np.array(y) # 起初发现y为0的点没有被删掉，考虑到他是对数组进行隐藏，而本来的y是个列表，因此又加了这一句，果然去掉了两个零点\n",
    "y_masked = np.ma.masked_where(y==0, y)\n",
    "y_masked = np.ma.masked_where(y_masked==54, y_masked)\n",
    "print(type(y),type(y_masked))"
   ]
  },
  {
   "cell_type": "code",
   "execution_count": 7,
   "metadata": {},
   "outputs": [
    {
     "data": {
      "image/png": "[encoded data removed]",
      "text/plain": [
       "<Figure size 432x288 with 1 Axes>"
      ]
     },
     "metadata": {},
     "output_type": "display_data"
    }
   ],
   "source": [
    "# 重新绘制图像\n",
    "plt.figure(2)\n",
    "plt.title(\"Masked data\")\n",
    "plt.plot(x, y_masked, 'ro')\n",
    "plt.xlabel('year')\n",
    "plt.ylabel('No Presedential Request')\n",
    "plt.ylim(0, 60)\n",
    "\n",
    "# 在图中画出第25、50、75位的百分位的水平线\n",
    "plt.axhline(perc_25, label='25th perc', c='r')\n",
    "plt.axhline(perc_50, label='50th perc', c='g')\n",
    "plt.axhline(perc_75, label='75th perc', c='m')\n",
    "plt.legend(loc='best')\n",
    "plt.show()"
   ]
  },
  {
   "cell_type": "markdown",
   "metadata": {},
   "source": [
    "## 知识点"
   ]
  },
  {
   "cell_type": "markdown",
   "metadata": {},
   "source": [
    "### plot"
   ]
  },
  {
   "cell_type": "markdown",
   "metadata": {},
   "source": [
    "plt.close('all') # 关闭之前打开的所有图形  \n",
    "plt.figure(1) # 给图形编号，在绘制多个图形的时候有用  \n",
    "plt.title('All data') # 设置标题  \n",
    "plt.plot(x, y, 'ro') # \"ro\" 表示使用红色（r）的点（o）来绘图"
   ]
  },
  {
   "cell_type": "markdown",
   "metadata": {},
   "source": [
    "### 百分位数"
   ]
  },
  {
   "cell_type": "markdown",
   "metadata": {},
   "source": [
    "百分位数：  \n",
    "一组n个观测值按数值大小排列。如，处于p%位置的值称第p百分位数。p=50，等价于中位数；p=0，等价于最小值；p=100，等价于最大值。"
   ]
  },
  {
   "cell_type": "markdown",
   "metadata": {},
   "source": [
    "### plt.axhline()"
   ]
  },
  {
   "cell_type": "markdown",
   "metadata": {},
   "source": [
    "plt.axhline()  \n",
    "给定y的位置，从x的最小值一直画到x的最大值  \n",
    "label设置名称  \n",
    "c参数设置线条颜色  \n",
    "eg：perc_25 = 13.00  \n",
    "plt.axhline(perc_25, label='25th perc', c='r')"
   ]
  },
  {
   "cell_type": "markdown",
   "metadata": {},
   "source": [
    "### legend(loc)"
   ]
  },
  {
   "cell_type": "markdown",
   "metadata": {},
   "source": [
    "plt.legend() 是将图中线条的名称（label）和一些标签显示出来  \n",
    "loc参数让pyplot决定最佳放置位置，以免影响读图"
   ]
  },
  {
   "cell_type": "markdown",
   "metadata": {},
   "source": [
    "### numpy-mask函数"
   ]
  },
  {
   "cell_type": "markdown",
   "metadata": {},
   "source": [
    "删除异常点  \n",
    "y_masked = np.ma.masked_where(y==0, y)  \n",
    "ma.masked_where函数接受两个参数，他将数组中符合条件的点进行隐藏，而不需要删除"
   ]
  }
 ],
 "metadata": {
  "kernelspec": {
   "display_name": "Python 3",
   "language": "python",
   "name": "python3"
  },
  "language_info": {
   "codemirror_mode": {
    "name": "ipython",
    "version": 3
   },
   "file_extension": ".py",
   "mimetype": "text/x-python",
   "name": "python",
   "nbconvert_exporter": "python",
   "pygments_lexer": "ipython3",
   "version": "3.6.5"
  }
 },
 "nbformat": 4,
 "nbformat_minor": 2
}
