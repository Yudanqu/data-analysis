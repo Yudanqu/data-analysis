{
 "cells": [
  {
   "cell_type": "markdown",
   "metadata": {},
   "source": [
    "在热图中，数据以矩阵的形式存在，属性范围用颜色的渐变来表示"
   ]
  },
  {
   "cell_type": "code",
   "execution_count": 1,
   "metadata": {},
   "outputs": [],
   "source": [
    "from sklearn.datasets import load_iris\n",
    "from sklearn.preprocessing import scale\n",
    "import numpy as np\n",
    "import matplotlib.pyplot as plt"
   ]
  },
  {
   "cell_type": "code",
   "execution_count": 2,
   "metadata": {},
   "outputs": [],
   "source": [
    "data = load_iris()\n",
    "x = data['data']\n",
    "y = data['target']\n",
    "col_names = data['feature_names']"
   ]
  },
  {
   "cell_type": "code",
   "execution_count": 3,
   "metadata": {},
   "outputs": [],
   "source": [
    "# 根据平均值对数据进行缩放\n",
    "x = scale(x, with_std=False)\n",
    "x_ = x[1:26,] # 选取其中25组数据\n",
    "y_labels = range(1, 26)"
   ]
  },
  {
   "cell_type": "code",
   "execution_count": 4,
   "metadata": {},
   "outputs": [
    {
     "data": {
      "text/plain": [
       "<Figure size 432x288 with 0 Axes>"
      ]
     },
     "metadata": {},
     "output_type": "display_data"
    },
    {
     "data": {
      "image/png": "[encoded data removed]",
      "text/plain": [
       "<Figure size 432x288 with 1 Axes>"
      ]
     },
     "metadata": {},
     "output_type": "display_data"
    }
   ],
   "source": [
    "plt.close('all')\n",
    "plt.figure(1)\n",
    "fig, ax = plt.subplots()\n",
    "ax.pcolor(x_, cmap=plt.cm.Greens, edgecolors='k')\n",
    "ax.set_xticks(np.arange(0, x_.shape[1])+0.5) # 设置横纵坐标\n",
    "ax.set_yticks(np.arange(0, x_.shape[0])+0.5)\n",
    "ax.xaxis.tick_top() # x轴提示显示在图形上方\n",
    "ax.yaxis.tick_left() # y轴提示显示在图形的左侧\n",
    "ax.set_xticklabels(col_names, minor=False, fontsize=10) # 传递标签数据\n",
    "ax.set_yticklabels(y_labels, minor=False, fontsize=10)\n",
    "plt.show()"
   ]
  },
  {
   "cell_type": "markdown",
   "metadata": {},
   "source": [
    "## 知识点"
   ]
  },
  {
   "cell_type": "markdown",
   "metadata": {},
   "source": [
    "### 预处理"
   ]
  },
  {
   "cell_type": "markdown",
   "metadata": {},
   "source": [
    "from sklearn.preprocessing import scale  \n",
    "preprocessing是机器学习库中预处理的模块，这里需要将数据标准化"
   ]
  },
  {
   "cell_type": "markdown",
   "metadata": {},
   "source": [
    "Standardization标准化:将特征数据的分布调整成标准正态分布，也叫高斯分布，也就是使得数据的均值为0，方差为1。  \n",
    "    标准化的原因在于如果有些特征的方差过大，则会主导目标函数从而使参数估计器无法正确地去学习其他特征。  \n",
    "    标准化的过程为两步：去均值的中心化（均值变为0）；方差的规模化（方差变为1）。  \n",
    "    在sklearn.preprocessing中提供了一个scale的方法，可以实现以上功能。"
   ]
  },
  {
   "cell_type": "code",
   "execution_count": 5,
   "metadata": {},
   "outputs": [
    {
     "data": {
      "text/plain": [
       "array([[ 0.        , -1.22474487,  1.33630621],\n",
       "       [ 1.22474487,  0.        , -0.26726124],\n",
       "       [-1.22474487,  1.22474487, -1.06904497]])"
      ]
     },
     "execution_count": 5,
     "metadata": {},
     "output_type": "execute_result"
    }
   ],
   "source": [
    "from sklearn import preprocessing\n",
    "import numpy as np\n",
    "\n",
    "# 创建一组特征数据，每一行表示一个样本，每一列表示一个特征\n",
    "xx = np.array([[1., -1., 2.],\n",
    "              [2., 0., 0.],\n",
    "              [0., 1., -1.]])\n",
    "\n",
    "# 将每一列特征标准化为标准正太分布，注意，标准化是针对每一列而言的\n",
    "xx_scale = preprocessing.scale(xx)\n",
    "\n",
    "xx_scale"
   ]
  },
  {
   "cell_type": "code",
   "execution_count": 6,
   "metadata": {},
   "outputs": [
    {
     "name": "stdout",
     "output_type": "stream",
     "text": [
      "均值： [0. 0. 0.]\n",
      "方差： [1. 1. 1.]\n"
     ]
    }
   ],
   "source": [
    "# 测试一下x_scale每列的均值方差\n",
    "print('均值：', xx_scale.mean(axis=0))  # axis=0指列，axis=1指行\n",
    "print('方差：', xx_scale.std(axis=0))"
   ]
  },
  {
   "cell_type": "markdown",
   "metadata": {},
   "source": [
    "with_mean,with_std.这两个都是布尔型的参数，默认情况下都是true,但也可以自定义成false.即不要均值中心化或者不要方差规模化为1."
   ]
  },
  {
   "cell_type": "markdown",
   "metadata": {},
   "source": [
    "### 热图"
   ]
  },
  {
   "cell_type": "markdown",
   "metadata": {},
   "source": [
    "pcolor绘制热图，并设置一些参数。在程序中注释了。"
   ]
  }
 ],
 "metadata": {
  "kernelspec": {
   "display_name": "Python 3",
   "language": "python",
   "name": "python3"
  },
  "language_info": {
   "codemirror_mode": {
    "name": "ipython",
    "version": 3
   },
   "file_extension": ".py",
   "mimetype": "text/x-python",
   "name": "python",
   "nbconvert_exporter": "python",
   "pygments_lexer": "ipython3",
   "version": "3.6.5"
  }
 },
 "nbformat": 4,
 "nbformat_minor": 2
}
